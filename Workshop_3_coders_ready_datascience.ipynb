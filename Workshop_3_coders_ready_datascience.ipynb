{
  "nbformat": 4,
  "nbformat_minor": 0,
  "metadata": {
    "colab": {
      "provenance": []
    },
    "kernelspec": {
      "name": "python3",
      "display_name": "Python 3"
    },
    "language_info": {
      "name": "python"
    }
  },
  "cells": [
    {
      "cell_type": "code",
      "source": [
        "print(type([]))"
      ],
      "metadata": {
        "colab": {
          "base_uri": "https://localhost:8080/"
        },
        "id": "WrAXSfxbxlY8",
        "outputId": "9d075fce-3b6a-415f-fe6d-b50b85dc7e0d"
      },
      "execution_count": null,
      "outputs": [
        {
          "output_type": "stream",
          "name": "stdout",
          "text": [
            "<class 'list'>\n"
          ]
        }
      ]
    },
    {
      "cell_type": "code",
      "source": [
        "class sample:\n",
        "  pass"
      ],
      "metadata": {
        "id": "-HYfLCER58GG"
      },
      "execution_count": null,
      "outputs": []
    },
    {
      "cell_type": "code",
      "source": [
        "x = sample()"
      ],
      "metadata": {
        "id": "teDZ8ic06dUD"
      },
      "execution_count": null,
      "outputs": []
    },
    {
      "cell_type": "code",
      "source": [
        "print(type(x))"
      ],
      "metadata": {
        "colab": {
          "base_uri": "https://localhost:8080/"
        },
        "id": "9W40436O6u7i",
        "outputId": "a1d0bbe1-1178-4892-a52f-78a1bf440d3e"
      },
      "execution_count": null,
      "outputs": [
        {
          "output_type": "stream",
          "name": "stdout",
          "text": [
            "<class '__main__.sample'>\n"
          ]
        }
      ]
    },
    {
      "cell_type": "code",
      "source": [
        "class Dog:\n",
        "  def __init__(self, breed):\n",
        "    self.breed = breed"
      ],
      "metadata": {
        "id": "SyCIPbkF60hf"
      },
      "execution_count": null,
      "outputs": []
    },
    {
      "cell_type": "code",
      "source": [
        "tommy = Dog(\"Lab\")\n",
        "tyson = Dog(breed='Huskie')"
      ],
      "metadata": {
        "id": "EE54hMy07XDT"
      },
      "execution_count": null,
      "outputs": []
    },
    {
      "cell_type": "code",
      "source": [
        "tommy.breed"
      ],
      "metadata": {
        "colab": {
          "base_uri": "https://localhost:8080/",
          "height": 36
        },
        "id": "9RKHaSOU8J4n",
        "outputId": "40559499-2784-4c92-b6eb-13e63ce04625"
      },
      "execution_count": null,
      "outputs": [
        {
          "output_type": "execute_result",
          "data": {
            "text/plain": [
              "'Lab'"
            ],
            "application/vnd.google.colaboratory.intrinsic+json": {
              "type": "string"
            }
          },
          "metadata": {},
          "execution_count": 10
        }
      ]
    },
    {
      "cell_type": "code",
      "source": [
        "tyson.breed"
      ],
      "metadata": {
        "colab": {
          "base_uri": "https://localhost:8080/",
          "height": 36
        },
        "id": "0J14V7y-8zpy",
        "outputId": "5b35043b-905e-4c1a-c25f-0ac700fb6e1e"
      },
      "execution_count": null,
      "outputs": [
        {
          "output_type": "execute_result",
          "data": {
            "text/plain": [
              "'Huskie'"
            ],
            "application/vnd.google.colaboratory.intrinsic+json": {
              "type": "string"
            }
          },
          "metadata": {},
          "execution_count": 14
        }
      ]
    },
    {
      "cell_type": "code",
      "source": [
        "class Dog:\n",
        "  species = \"Mammal\"\n",
        "  def __init__(self, breed, name):\n",
        "    self.breed = breed\n",
        "    self.name = name"
      ],
      "metadata": {
        "id": "qOr4eb_T84Js"
      },
      "execution_count": null,
      "outputs": []
    },
    {
      "cell_type": "code",
      "source": [
        "my_dog = Dog(\"German Shepherd\", 'Jerry')"
      ],
      "metadata": {
        "id": "GbhRjHy-9-Ym"
      },
      "execution_count": null,
      "outputs": []
    },
    {
      "cell_type": "code",
      "source": [
        "my_dog.name"
      ],
      "metadata": {
        "colab": {
          "base_uri": "https://localhost:8080/",
          "height": 36
        },
        "id": "5_vTdfXo-Oo6",
        "outputId": "35fb8411-170f-4afa-8b54-1f2debd64668"
      },
      "execution_count": null,
      "outputs": [
        {
          "output_type": "execute_result",
          "data": {
            "text/plain": [
              "'Jerry'"
            ],
            "application/vnd.google.colaboratory.intrinsic+json": {
              "type": "string"
            }
          },
          "metadata": {},
          "execution_count": 27
        }
      ]
    },
    {
      "cell_type": "code",
      "source": [
        "my_dog.breed"
      ],
      "metadata": {
        "colab": {
          "base_uri": "https://localhost:8080/",
          "height": 36
        },
        "id": "fq0nm4aR-QHU",
        "outputId": "19d6bc08-7f36-493f-fa1b-cb905479569f"
      },
      "execution_count": null,
      "outputs": [
        {
          "output_type": "execute_result",
          "data": {
            "text/plain": [
              "'German Shepherd'"
            ],
            "application/vnd.google.colaboratory.intrinsic+json": {
              "type": "string"
            }
          },
          "metadata": {},
          "execution_count": 28
        }
      ]
    },
    {
      "cell_type": "code",
      "source": [
        "my_dog.species"
      ],
      "metadata": {
        "colab": {
          "base_uri": "https://localhost:8080/",
          "height": 36
        },
        "id": "n0KUAYil-SR0",
        "outputId": "e81d0a08-4a58-4321-cc8a-12e560e9d0fa"
      },
      "execution_count": null,
      "outputs": [
        {
          "output_type": "execute_result",
          "data": {
            "text/plain": [
              "'Mammal'"
            ],
            "application/vnd.google.colaboratory.intrinsic+json": {
              "type": "string"
            }
          },
          "metadata": {},
          "execution_count": 29
        }
      ]
    },
    {
      "cell_type": "code",
      "source": [
        "# Code to check area and circumference of the circle\n",
        "class Circle:\n",
        "  pi = 3.147\n",
        "  def __init__(self, radius = 1):\n",
        "    self.radius = radius\n",
        "    self.area = radius*radius*Circle.pi \n",
        "\n",
        "  def setRadius(self, new_radius):\n",
        "    self.radius = new_radius\n",
        "    self.area = new_radius*new_radius*self.pi \n",
        "\n",
        "  def circumference(self):\n",
        "    return self.radius*self.pi*2"
      ],
      "metadata": {
        "id": "4_sCcugF-laK"
      },
      "execution_count": null,
      "outputs": []
    },
    {
      "cell_type": "code",
      "source": [
        "c1 = Circle()\n",
        "print(\"The Radius of circle is:\", c1.radius)\n",
        "print(\"The Area of the circle is:\", c1.area)\n",
        "print(\"The circumference of the circle is:\", c1.circumference())"
      ],
      "metadata": {
        "colab": {
          "base_uri": "https://localhost:8080/"
        },
        "id": "95ZSNyBDA7OJ",
        "outputId": "7abf573a-7c5e-42c8-dad3-cbe2041b6b74"
      },
      "execution_count": null,
      "outputs": [
        {
          "output_type": "stream",
          "name": "stdout",
          "text": [
            "The Radius of circle is: 1\n",
            "The Area of the circle is: 3.147\n",
            "The circumference of the circle is: 6.294\n"
          ]
        }
      ]
    },
    {
      "cell_type": "code",
      "source": [
        "c1.setRadius(4)\n",
        "print(\"The Radius of circle is:\", c1.radius)\n",
        "print(\"The Area of the circle is:\", c1.area)\n",
        "print(\"The circumference of the circle is:\", c1.circumference())"
      ],
      "metadata": {
        "colab": {
          "base_uri": "https://localhost:8080/"
        },
        "id": "8S-pKoIxBElJ",
        "outputId": "6824fb70-2e9a-4de5-ed5a-d7b1188b77e9"
      },
      "execution_count": null,
      "outputs": [
        {
          "output_type": "stream",
          "name": "stdout",
          "text": [
            "The Radius of circle is: 4\n",
            "The Area of the circle is: 50.352\n",
            "The circumference of the circle is: 25.176\n"
          ]
        }
      ]
    },
    {
      "cell_type": "code",
      "source": [
        "# Class to check distance and slope of two coordinates\n",
        "class track:\n",
        "  def __init__(self, cor_1, cor_2):\n",
        "    self.cor_1 = cor_1\n",
        "    self.cor_2 = cor_2\n",
        "\n",
        "\n",
        "  def distance(self):\n",
        "    x1,y1 = self.cor_1\n",
        "    x2,y2 = self.cor_2\n",
        "    return ((x2 - x1)**2 + (y2 - y1)**2)**0.5\n",
        "\n",
        "  def slope(self):\n",
        "    x1, y1 = self.cor_1\n",
        "    x2, y2 = self.cor_2\n",
        "    return (y2-y1)/(x2-x1)"
      ],
      "metadata": {
        "id": "-_7lVdU9B_HX"
      },
      "execution_count": null,
      "outputs": []
    },
    {
      "cell_type": "code",
      "source": [
        "cor1 = (12,4)\n",
        "cor2 = (4,40)"
      ],
      "metadata": {
        "id": "uzyLyBiTFTFC"
      },
      "execution_count": null,
      "outputs": []
    },
    {
      "cell_type": "code",
      "source": [
        "find = track(cor1, cor2)"
      ],
      "metadata": {
        "id": "iNYUYe43Fcg7"
      },
      "execution_count": null,
      "outputs": []
    },
    {
      "cell_type": "code",
      "source": [
        "find.distance()"
      ],
      "metadata": {
        "colab": {
          "base_uri": "https://localhost:8080/"
        },
        "id": "FiHeo83aFvut",
        "outputId": "ba0ecb7a-7882-4584-bdf2-7468e3138fe1"
      },
      "execution_count": null,
      "outputs": [
        {
          "output_type": "execute_result",
          "data": {
            "text/plain": [
              "36.87817782917155"
            ]
          },
          "metadata": {},
          "execution_count": 48
        }
      ]
    },
    {
      "cell_type": "markdown",
      "source": [],
      "metadata": {
        "id": "QcIez-ExIHxv"
      }
    },
    {
      "cell_type": "code",
      "source": [
        "find.slope()"
      ],
      "metadata": {
        "colab": {
          "base_uri": "https://localhost:8080/"
        },
        "id": "96coaH9hFxgv",
        "outputId": "7ea9197b-22d0-42d9-ab10-37d1089b1371"
      },
      "execution_count": null,
      "outputs": [
        {
          "output_type": "execute_result",
          "data": {
            "text/plain": [
              "-4.5"
            ]
          },
          "metadata": {},
          "execution_count": 49
        }
      ]
    },
    {
      "cell_type": "code",
      "source": [
        "# Code for the managing bank account.\n",
        "class Account:\n",
        "  def __init__(self, owner, balance=0):\n",
        "    self.owner = owner\n",
        "    self.balance = balance\n",
        "\n",
        "  def __str__(self):\n",
        "    return f'Account Owner: \\t {self.owner}\\nAccount Balance: {self.balance}'\n",
        "\n",
        "  def deposite(self, dep_amt):\n",
        "    self.balance += dep_amt\n",
        "    print(\"Deposite Accepted.\")\n",
        "\n",
        "  def withdraw(self, wtd_amt):\n",
        "    if (wtd_amt <= self.balance):\n",
        "      self.balance -= wtd_amt\n",
        "      print(\"Withdraw Accepted.\")\n",
        "\n",
        "    else:\n",
        "      print(\"You are out of money.\")\n"
      ],
      "metadata": {
        "id": "zJynPUVQFz44"
      },
      "execution_count": null,
      "outputs": []
    },
    {
      "cell_type": "code",
      "source": [
        "acc1 = Account(\"Rio\", 10000000)"
      ],
      "metadata": {
        "id": "BF-7P4g3MNcf"
      },
      "execution_count": null,
      "outputs": []
    },
    {
      "cell_type": "code",
      "source": [
        "print(acc1)"
      ],
      "metadata": {
        "colab": {
          "base_uri": "https://localhost:8080/"
        },
        "id": "eQ0tTGzvMXPk",
        "outputId": "69675a31-eff5-4aa1-88f9-f5180e9a78b4"
      },
      "execution_count": null,
      "outputs": [
        {
          "output_type": "stream",
          "name": "stdout",
          "text": [
            "Account Owner: \t Rio\n",
            "Account Balance: 10000000\n"
          ]
        }
      ]
    },
    {
      "cell_type": "code",
      "source": [
        "acc1.deposite(5000)"
      ],
      "metadata": {
        "colab": {
          "base_uri": "https://localhost:8080/"
        },
        "id": "yFb65__KMuzC",
        "outputId": "7c206430-4f1d-41aa-c3a0-89f91a85e0d4"
      },
      "execution_count": null,
      "outputs": [
        {
          "output_type": "stream",
          "name": "stdout",
          "text": [
            "Deposite Accepted.\n"
          ]
        }
      ]
    },
    {
      "cell_type": "code",
      "source": [
        "acc1.balance"
      ],
      "metadata": {
        "colab": {
          "base_uri": "https://localhost:8080/"
        },
        "id": "oCHyva4INE38",
        "outputId": "045305bf-5ce2-4cad-f3d7-4e08a57f553b"
      },
      "execution_count": null,
      "outputs": [
        {
          "output_type": "execute_result",
          "data": {
            "text/plain": [
              "10005000"
            ]
          },
          "metadata": {},
          "execution_count": 63
        }
      ]
    },
    {
      "cell_type": "code",
      "source": [
        "acc1.withdraw(200000000)"
      ],
      "metadata": {
        "colab": {
          "base_uri": "https://localhost:8080/"
        },
        "id": "rEieOwpLNHKl",
        "outputId": "7e958cc4-ef2c-43e3-c823-cbb7e6ef183c"
      },
      "execution_count": null,
      "outputs": [
        {
          "output_type": "stream",
          "name": "stdout",
          "text": [
            "You are out of money.\n"
          ]
        }
      ]
    },
    {
      "cell_type": "code",
      "source": [
        "acc1.withdraw(5000)"
      ],
      "metadata": {
        "colab": {
          "base_uri": "https://localhost:8080/"
        },
        "id": "noqEbnl0NMjz",
        "outputId": "5bc30367-7e71-4337-8353-7553ccb503d5"
      },
      "execution_count": null,
      "outputs": [
        {
          "output_type": "stream",
          "name": "stdout",
          "text": [
            "Withdraw Accepted.\n"
          ]
        }
      ]
    },
    {
      "cell_type": "code",
      "source": [
        "acc1.balance"
      ],
      "metadata": {
        "colab": {
          "base_uri": "https://localhost:8080/"
        },
        "id": "8nYabcN6NcVg",
        "outputId": "c53dd444-9774-4f7c-f887-bcb3bc7e8d40"
      },
      "execution_count": null,
      "outputs": [
        {
          "output_type": "execute_result",
          "data": {
            "text/plain": [
              "10000000"
            ]
          },
          "metadata": {},
          "execution_count": 69
        }
      ]
    },
    {
      "cell_type": "code",
      "source": [],
      "metadata": {
        "id": "gm6vbAvaNdvH"
      },
      "execution_count": null,
      "outputs": []
    }
  ]
}